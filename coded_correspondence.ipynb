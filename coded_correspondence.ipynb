{
 "cells": [
  {
   "cell_type": "markdown",
   "metadata": {},
   "source": [
    "# Off-Platform Project: Coded Correspondence\n",
    "\n",
    "You and your pen pal, Vishal, have been exchanging letters for some time now. Recently, he has become interested in cryptography and the two of you have started sending encoded messages within your letters.\n",
    "\n",
    "In this project, you will use your Python skills to decipher the messages you receive and to encode your own responses! Put your programming skills to the test with these fun cryptography puzzles. Here is his most recent letter:\n",
    "\n",
    "    Hey there! How have you been? I've been great! I just learned about this really cool type of cipher called a Caesar Cipher. Here's how it works: You take your message, something like \"hello\" and then you shift all of the letters by a certain offset. \n",
    "\n",
    "    For example, if I chose an offset of 3 and a message of \"hello\", I would encode my message by shifting each letter 3 places to the left with respect to the alphabet. So \"h\" becomes \"e\", \"e\" becomes \"b\", \"l\" becomes \"i\", and \"o\" becomes \"l\". Then I have my encoded message, \"ebiil\"! Now I can send you my message and the offset and you can decode it by shifting each letter 3 places to the right. The best thing is that Julius Caesar himself used this cipher, that's why it's called the Caesar Cipher! Isn't that so cool! Okay, now I'm going to send you a longer encoded message that you have to decode yourself!\n",
    "    \n",
    "        xuo jxuhu! jxyi yi qd unqcfbu ev q squiqh syfxuh. muhu oek qrbu je tusetu yj? y xefu ie! iudt cu q cuiiqwu rqsa myjx jxu iqcu evviuj!\n",
    "    \n",
    "    This message has an offset of 10. Can you decode it?\n",
    "    \n",
    "\n",
    "#### Step 1: Decode Vishal's Message\n",
    "In the cell below, use your Python skills to decode Vishal's message and print the result."
   ]
  },
  {
   "cell_type": "markdown",
   "metadata": {},
   "source": [
    "Stuck? Open this cell to view Hints: \n",
    "\n",
    "<span hidden>\n",
    "You can account for shifts that go past the end of the alphabet using the modulus operator, but I'll let you figure out how!\n",
    "\n",
    "Watch out for spaces and punctuation! Your code should only shift characters that are in the alphabet.\n",
    "\n",
    "You'll want to find a way to represent the letters of the alphabet as numbers, where `a = 0`, `b = 1`, etc. Remember, the characters of a string can be accessed with integer indices.\n",
    "</span>"
   ]
  },
  {
   "cell_type": "code",
   "execution_count": 3,
   "metadata": {},
   "outputs": [],
   "source": [
    "# Define alphabet and punctuation\n",
    "alphabet = 'abcdefghijklmnopqrstuvwxyz'\n",
    "special_characters = [' ','!','?', ',', '.', ';', ':', '(', ')']"
   ]
  },
  {
   "cell_type": "code",
   "execution_count": 4,
   "metadata": {},
   "outputs": [],
   "source": [
    "# Use .lower() method to ensure case consistency and reassing it to the same variable\n",
    "vishal_message = \"xuo jxuhu! jxyi yi qd unqcfbu ev q squiqh syfxuh. muhu oek qrbu je tusetu yj? y xefu ie! iudt cu q cuiiqwu rqsa myjx jxu iqcu evviuj!\"\n",
    "vishal_message = vishal_message.lower()"
   ]
  },
  {
   "cell_type": "code",
   "execution_count": 5,
   "metadata": {},
   "outputs": [
    {
     "name": "stdout",
     "output_type": "stream",
     "text": [
      "hey there! this is an example of a caesar cipher. were you able to decode it? i hope so! send me a message back with the same offset!\n"
     ]
    }
   ],
   "source": [
    "# Define a function that decodes the message:\n",
    "def decoded_message(message, offset):\n",
    "  decoded = []\n",
    "  for letter in message:\n",
    "    if letter in alphabet:\n",
    "      letter_index = (alphabet.index(letter) + offset) % 26\n",
    "      decoded.append(alphabet[letter_index])\n",
    "    elif letter in special_characters:\n",
    "      decoded.append(letter)\n",
    "  return \"\".join(decoded)\n",
    "print(decoded_message(vishal_message, 10))"
   ]
  },
  {
   "cell_type": "markdown",
   "metadata": {},
   "source": [
    "#### Step 2: Send Vishal a Coded Message\n",
    "Great job! Now send Vishal back a message using the same offset. Your message can be anything you want! Remember, encoding happens in opposite direction of decoding."
   ]
  },
  {
   "cell_type": "code",
   "execution_count": 7,
   "metadata": {},
   "outputs": [],
   "source": [
    "my_message = 'Hey, dude! As you can see, I was able to decode your message. It was a bit hard but here I am. This is fun :)'\n",
    "my_message = my_message.lower()"
   ]
  },
  {
   "cell_type": "code",
   "execution_count": 8,
   "metadata": {},
   "outputs": [],
   "source": [
    "my_encoded_message = 'xuo, tktu! qi oek sqd iuu, y mqi qrbu je tusetu oekh cuiiqwu. yj mqi q ryj xqht rkj xuhu y qc. jxyi yi vkd :)'\n",
    "my_encoded_message = my_encoded_message.lower()"
   ]
  },
  {
   "cell_type": "code",
   "execution_count": 9,
   "metadata": {},
   "outputs": [
    {
     "name": "stdout",
     "output_type": "stream",
     "text": [
      "xuo, tktu! qi oek sqd iuu, y mqi qrbu je tusetu oekh cuiiqwu. yj mqi q ryj xqht rkj xuhu y qc. jxyi yi vkd :)\n"
     ]
    }
   ],
   "source": [
    "def encoded_message(message,offset):\n",
    "  encoded = []\n",
    "  for letter in message:\n",
    "    if letter in alphabet:\n",
    "      letter_index = (alphabet.index(letter) - offset) % 26\n",
    "      encoded.append(alphabet[letter_index])\n",
    "    elif letter in special_characters:\n",
    "      encoded.append(letter)\n",
    "  return \"\".join(encoded)\n",
    "print(encoded_message(my_message, 10))"
   ]
  },
  {
   "cell_type": "code",
   "execution_count": 10,
   "metadata": {},
   "outputs": [
    {
     "name": "stdout",
     "output_type": "stream",
     "text": [
      "hey, dude! as you can see, i was able to decode your message. it was a bit hard but here i am. this is fun :)\n"
     ]
    }
   ],
   "source": [
    "# I called the decoded_message function using my enconded message \"my_encoded_message\" to make sure it works\n",
    "print(decoded_message(my_encoded_message, 10))"
   ]
  },
  {
   "cell_type": "markdown",
   "metadata": {},
   "source": [
    "#### Step 3: Make functions for decoding and coding \n",
    "\n",
    "Vishal sent over another reply, this time with two coded messages!\n",
    "    \n",
    "    You're getting the hang of this! Okay here are two more messages, the first one is coded just like before with an offset of ten, and it contains a hint for decoding the second message!\n",
    "\n",
    "    First message:\n",
    "    \n",
    "        jxu evviuj veh jxu iusedt cuiiqwu yi vekhjuud.\n",
    "        \n",
    "    Second message:\n",
    "    \n",
    "        bqdradyuzs ygxfubxq omqemd oubtqde fa oapq kagd yqeemsqe ue qhqz yadq eqogdq!\n",
    "    \n",
    "Decode both of these messages. \n",
    "\n",
    "If you haven't already, define two functions `caesar_decode(message, offset)` and `caesar_encode(message, offset)` that can be used to quickly decode and encode messages given any offset."
   ]
  },
  {
   "cell_type": "code",
   "execution_count": 12,
   "metadata": {},
   "outputs": [],
   "source": [
    "# Create 2 messages for the next 2 functions to be used:\n",
    "first_message = \"JXU evviuj veh jxu iusedt cuiiqwu yi vekhjuud\"\n",
    "first_message = first_message.lower()\n",
    "\n",
    "second_message = \"bqdradyuzs ygxfubxq omqemd oubtqde fa oapq kagd yqeemsqe ue qhqz yadq eqogdq!\"\n",
    "second_message = second_message.lower()"
   ]
  },
  {
   "cell_type": "code",
   "execution_count": 13,
   "metadata": {},
   "outputs": [
    {
     "name": "stdout",
     "output_type": "stream",
     "text": [
      "performing multiple caesar ciphers to code your messages is even more secure!\n",
      "the offset for the second message is fourteen\n"
     ]
    }
   ],
   "source": [
    "# Decoding function\n",
    "def caesar_decode(message, offset):\n",
    "  decoded = []\n",
    "  for letter in message:\n",
    "    if letter in alphabet:\n",
    "      letter_index = (alphabet.index(letter) + offset) % 26\n",
    "      decoded.append(alphabet[letter_index])\n",
    "    elif letter in special_characters:\n",
    "      decoded.append(letter)\n",
    "  return \"\".join(decoded)\n",
    "print(caesar_decode(second_message, 14))\n",
    "print(caesar_decode(first_message, 10))"
   ]
  },
  {
   "cell_type": "code",
   "execution_count": 14,
   "metadata": {},
   "outputs": [
    {
     "name": "stdout",
     "output_type": "stream",
     "text": [
      "xuo, tktu! qi oek sqd iuu, y mqi qrbu je tusetu oekh cuiiqwu. yj mqi q ryj xqht rkj xuhu y qc. jxyi yi vkd :)\n"
     ]
    }
   ],
   "source": [
    "# Enconding function\n",
    "def caesar_encode(message, offset):\n",
    "  encoded = []\n",
    "  for letter in message:\n",
    "    if letter in alphabet:\n",
    "      letter_index = (alphabet.index(letter) - offset) % 26\n",
    "      encoded.append(alphabet[letter_index])\n",
    "    elif letter in special_characters:\n",
    "      encoded.append(letter)\n",
    "  return \"\".join(encoded)\n",
    "print(caesar_encode(my_message, 10))"
   ]
  },
  {
   "cell_type": "markdown",
   "metadata": {},
   "source": [
    "#### Step 4: Solving a Caesar Cipher without knowing the shift value\n",
    "\n",
    "Awesome work! While you were working to decode his last two messages, Vishal sent over another letter! He's really been bitten by the crypto-bug. Read it and see what interesting task he has lined up for you this time.\n",
    "\n",
    "    Hello again friend! I knew you would love the Caesar Cipher, it's a cool, simple way to encrypt messages. Did you know that back in Caesar's time, it was considered a very secure way of communication and it took a lot of effort to crack if you were unaware of the value of the shift? That's all changed with computers! Now we can brute force these kinds of ciphers very quickly, as I'm sure you can imagine.\n",
    "            \n",
    "    To test your cryptography skills, this next coded message is going to be harder than the last couple to crack. It's still going to be coded with a Caesar Cipher but this time I'm not going to tell you the value of the shift. You'll have to brute force it yourself.\n",
    "            \n",
    "    Here's the coded message:\n",
    "            \n",
    "        vhfinmxkl atox kxgwxkxw tee hy maxlx hew vbiaxkl hulhexmx. px'ee atox mh kxteer lmxi ni hnk ztfx by px ptgm mh dxxi hnk fxlltzxl ltyx.\n",
    "            \n",
    "    Good luck!\n",
    "            \n",
    "Decode Vishal's most recent message and see what it says!"
   ]
  },
  {
   "cell_type": "markdown",
   "metadata": {},
   "source": [
    "Stuck? Open this cell to view Hints: \n",
    "\n",
    "<span hidden>\n",
    "Since you don't know the cipher's offset, you'll need to try every possible option until you find the right one. Use a Python statement that will allow you to execute `caesar_decode()` multiple times with different `offset` arguments.\n",
    "</span>"
   ]
  },
  {
   "cell_type": "code",
   "execution_count": 17,
   "metadata": {},
   "outputs": [],
   "source": [
    "third_message = \"vhfinmxkl atox kxgwxkxw tee hy maxlx hew vbiaxkl hulhexmx. px'ee atox mh kxteer lmxi ni hnk ztfx by px ptgm mh dxxi hnk fxlltzxl ltyx.\"\n",
    "third_message = third_message.lower()"
   ]
  },
  {
   "cell_type": "code",
   "execution_count": 18,
   "metadata": {},
   "outputs": [
    {
     "name": "stdout",
     "output_type": "stream",
     "text": [
      "Shift 1: wigjonylm bupy lyhxylyx uff iz nbymy ifx wcjbylm ivmifyny. qyff bupy ni lyuffs mnyj oj iol augy cz qy quhn ni eyyj iol gymmuaym muzy..\n",
      "\n",
      "Shift 2: xjhkpozmn cvqz mziyzmzy vgg ja ocznz jgy xdkczmn jwnjgzoz. rzgg cvqz oj mzvggt nozk pk jpm bvhz da rz rvio oj fzzk jpm hznnvbzn nvaz..\n",
      "\n",
      "Shift 3: ykilqpano dwra najzanaz whh kb pdaoa khz yeldano kxokhapa. sahh dwra pk nawhhu opal ql kqn cwia eb sa swjp pk gaal kqn iaoowcao owba..\n",
      "\n",
      "Shift 4: zljmrqbop exsb obkaboba xii lc qebpb lia zfmebop lyplibqb. tbii exsb ql obxiiv pqbm rm lro dxjb fc tb txkq ql hbbm lro jbppxdbp pxcb..\n",
      "\n",
      "Shift 5: amknsrcpq fytc pclbcpcb yjj md rfcqc mjb agnfcpq mzqmjcrc. ucjj fytc rm pcyjjw qrcn sn msp eykc gd uc uylr rm iccn msp kcqqyecq qydc..\n",
      "\n",
      "Shift 6: bnlotsdqr gzud qdmcdqdc zkk ne sgdrd nkc bhogdqr narnkdsd. vdkk gzud sn qdzkkx rsdo to ntq fzld he vd vzms sn jddo ntq ldrrzfdr rzed..\n",
      "\n",
      "Shift 7: computers have rendered all of these old ciphers obsolete. well have to really step up our game if we want to keep our messages safe..\n",
      "\n",
      "Shift 8: dpnqvufst ibwf sfoefsfe bmm pg uiftf pme djqifst pctpmfuf. xfmm ibwf up sfbmmz tufq vq pvs hbnf jg xf xbou up lffq pvs nfttbhft tbgf..\n",
      "\n",
      "Shift 9: eqorwvgtu jcxg tgpfgtgf cnn qh vjgug qnf ekrjgtu qduqngvg. ygnn jcxg vq tgcnna uvgr wr qwt icog kh yg ycpv vq mggr qwt oguucigu uchg..\n",
      "\n",
      "Shift 10: frpsxwhuv kdyh uhqghuhg doo ri wkhvh rog flskhuv revrohwh. zhoo kdyh wr uhdoob vwhs xs rxu jdph li zh zdqw wr nhhs rxu phvvdjhv vdih..\n",
      "\n",
      "Shift 11: gsqtyxivw lezi virhivih epp sj xliwi sph gmtlivw sfwspixi. aipp lezi xs vieppc wxit yt syv keqi mj ai aerx xs oiit syv qiwwekiw weji..\n",
      "\n",
      "Shift 12: htruzyjwx mfaj wjsijwji fqq tk ymjxj tqi hnumjwx tgxtqjyj. bjqq mfaj yt wjfqqd xyju zu tzw lfrj nk bj bfsy yt pjju tzw rjxxfljx xfkj..\n",
      "\n",
      "Shift 13: iusvazkxy ngbk xktjkxkj grr ul znkyk urj iovnkxy uhyurkzk. ckrr ngbk zu xkgrre yzkv av uax mgsk ol ck cgtz zu qkkv uax skyygmky yglk..\n",
      "\n",
      "Shift 14: jvtwbalyz ohcl yluklylk hss vm aolzl vsk jpwolyz vizvslal. dlss ohcl av ylhssf zalw bw vby nhtl pm dl dhua av rllw vby tlzzhnlz zhml..\n",
      "\n",
      "Shift 15: kwuxcbmza pidm zmvlmzml itt wn bpmam wtl kqxpmza wjawtmbm. emtt pidm bw zmittg abmx cx wcz oium qn em eivb bw smmx wcz umaaioma ainm..\n",
      "\n",
      "Shift 16: lxvydcnab qjen anwmnanm juu xo cqnbn xum lryqnab xkbxuncn. fnuu qjen cx anjuuh bcny dy xda pjvn ro fn fjwc cx tnny xda vnbbjpnb bjon..\n",
      "\n",
      "Shift 17: mywzedobc rkfo boxnobon kvv yp droco yvn mszrobc ylcyvodo. govv rkfo dy bokvvi cdoz ez yeb qkwo sp go gkxd dy uooz yeb wocckqoc ckpo..\n",
      "\n",
      "Shift 18: nzxafepcd slgp cpyopcpo lww zq espdp zwo ntaspcd zmdzwpep. hpww slgp ez cplwwj depa fa zfc rlxp tq hp hlye ez vppa zfc xpddlrpd dlqp..\n",
      "\n",
      "Shift 19: oaybgfqde tmhq dqzpqdqp mxx ar ftqeq axp oubtqde aneaxqfq. iqxx tmhq fa dqmxxk efqb gb agd smyq ur iq imzf fa wqqb agd yqeemsqe emrq..\n",
      "\n",
      "Shift 20: pbzchgref unir eraqrerq nyy bs gurfr byq pvcuref bofbyrgr. jryy unir gb ernyyl fgrc hc bhe tnzr vs jr jnag gb xrrc bhe zrffntrf fnsr..\n",
      "\n",
      "Shift 21: qcadihsfg vojs fsbrsfsr ozz ct hvsgs czr qwdvsfg cpgczshs. kszz vojs hc fsozzm ghsd id cif uoas wt ks kobh hc yssd cif asggousg gots..\n",
      "\n",
      "Shift 22: rdbejitgh wpkt gtcstgts paa du iwtht das rxewtgh dqhdatit. ltaa wpkt id gtpaan hite je djg vpbt xu lt lpci id ztte djg bthhpvth hput..\n",
      "\n",
      "Shift 23: secfkjuhi xqlu hudtuhut qbb ev jxuiu ebt syfxuhi eriebuju. mubb xqlu je huqbbo ijuf kf ekh wqcu yv mu mqdj je auuf ekh cuiiqwui iqvu..\n",
      "\n",
      "Shift 24: tfdglkvij yrmv iveuvivu rcc fw kyvjv fcu tzgyvij fsjfcvkv. nvcc yrmv kf ivrccp jkvg lg fli xrdv zw nv nrek kf bvvg fli dvjjrxvj jrwv..\n",
      "\n",
      "Shift 25: ugehmlwjk zsnw jwfvwjwv sdd gx lzwkw gdv uahzwjk gtkgdwlw. owdd zsnw lg jwsddq klwh mh gmj ysew ax ow osfl lg cwwh gmj ewkksywk ksxw..\n",
      "\n",
      "Shift 26: vhfinmxkl atox kxgwxkxw tee hy maxlx hew vbiaxkl hulhexmx. pxee atox mh kxteer lmxi ni hnk ztfx by px ptgm mh dxxi hnk fxlltzxl ltyx..\n",
      "\n"
     ]
    }
   ],
   "source": [
    "# Brute force the message and create a empty list called \"outcomes\" where we store the results:\n",
    "outcomes = []\n",
    "for index, value in enumerate(range(1, 26 + 1), start=1):\n",
    "  result = caesar_decode(third_message, value)\n",
    "  outcomes.append((index, result))\n",
    "\n",
    "for index, result in outcomes:\n",
    "  print(''.join(f\"Shift {index}: {result}.\\n\"))"
   ]
  },
  {
   "cell_type": "markdown",
   "metadata": {},
   "source": [
    "#### Step 5: The Vigenère Cipher\n",
    "\n",
    "Great work! While you were working on the brute force cracking of the cipher, Vishal sent over another letter. That guy is a letter machine!\n",
    "\n",
    "    Salutations! As you can see, technology has made brute forcing simple ciphers like the Caesar Cipher extremely easy, and us crypto-enthusiasts have had to get more creative and use more complicated ciphers. This next cipher I'm going to teach you is the Vigenère Cipher, invented by an Italian cryptologist named Giovan Battista Bellaso (cool name eh?) in the 16th century, but named after another cryptologist from the 16th century, Blaise de Vigenère.\n",
    "            \n",
    "    The Vigenère Cipher is a polyalphabetic substitution cipher, as opposed to the Caesar Cipher which was a monoalphabetic substitution cipher. What this means is that opposed to having a single shift that is applied to every letter, the Vigenère Cipher has a different shift for each individual letter. The value of the shift for each letter is determined by a given keyword.\n",
    "           \n",
    "    Consider the message:\n",
    "           \n",
    "        barry is the spy\n",
    "\n",
    "    If we want to code this message, first we choose a keyword. For this example, we'll use the keyword\n",
    "           \n",
    "        dog\n",
    "               \n",
    "    Now we repeat the keyword over and over to generate a keyword phrase that is the same length as the message we want to code. So if we want to code the message \"barry is the spy\" our keyword phrase is \"dogdo gd ogd ogd\". Now we are ready to start coding our message. We shift each letter of our message by the place value of the corresponding letter in the keyword phrase, assuming that \"a\" has a place value of 0, \"b\" has a place value of 1, and so forth.\n",
    "\n",
    "                  message:    b  a  r  r  y    i  s    t  h  e    s  p  y\n",
    "                \n",
    "           keyword phrase:    d  o  g  d  o    g  d    o  g  d    o  g  d\n",
    "                 \n",
    "    resulting place value:    24 12 11 14 10   2  15   5  1  1    4  9  21\n",
    "      \n",
    "    So we shift \"b\", which has an index of 1, by the index of \"d\", which is 3. This gives us an place value of 24, which is \"y\". Remember to loop back around when we reach either end of the alphabet! Then continue the trend: we shift \"a\" by the place value of \"o\", 14, and get \"m\", we shift \"r\" by the place value of \"g\", 15, and get \"l\", shift the next \"r\" by 4 places and get \"o\", and so forth. Once we complete all the shifts we end up with our coded message:\n",
    "            \n",
    "        ymlok cp fbb ejv\n",
    "                \n",
    "    As you can imagine, this is a lot harder to crack without knowing the keyword! So now comes the hard part. I'll give you a message and the keyword, and you'll see if you can figure out how to crack it! Ready? Okay here's my message:\n",
    "            \n",
    "        txm srom vkda gl lzlgzr qpdb? fepb ejac! ubr imn tapludwy mhfbz cza ruxzal wg zztcgcexxch!\n",
    "                \n",
    "    and the keyword to decode my message is \n",
    "            \n",
    "        friends\n",
    "                \n",
    "    Because that's what we are! Good luck friend!\n",
    "           \n",
    "And there it is. Vishal has given you quite the assignment this time! Try to decode his message. It may be helpful to create a function that takes two parameters &mdash; the coded message and the keyword &mdash; then work towards a solution from there."
   ]
  },
  {
   "cell_type": "markdown",
   "metadata": {},
   "source": [
    "Stuck? Open this cell to view Hints: \n",
    "\n",
    "<span hidden>\n",
    "Like before, you'll only want to shift characters that are in the alphabet. Your keyword phrase should ignore any spaces and punctuation in the original message.\n",
    "\n",
    "For example, given the message\n",
    "\n",
    "  ciphers are awesome!\n",
    "\n",
    "and the keyword\n",
    "\n",
    "  cat\n",
    "\n",
    "the keyword phrase would be:\n",
    "\n",
    "  catcatc atc atcatca\n",
    "\n",
    "and the encoded string would be:\n",
    "\n",
    "  aiwfeyq ayc adcsvke!\n",
    "</span>"
   ]
  },
  {
   "cell_type": "code",
   "execution_count": 21,
   "metadata": {},
   "outputs": [],
   "source": [
    "fourth_message = \"dfc aruw fsti gr vjtwhr wznj? vmph otis! cbx swv jipreneo uhllj kpi rahjib eg fjdkwkedhmp!\"\n",
    "fourth_message = fourth_message.lower()\n",
    "keyword = \"friends\""
   ]
  },
  {
   "cell_type": "code",
   "execution_count": 22,
   "metadata": {},
   "outputs": [],
   "source": [
    "# Assign the message outcome from task 6 to a variable called \"task_six_message\" and the keyword to a variable called \"task_six_keyword\n",
    "#to try it out decoding it with our fuction below:\n",
    "task_six_message = \"a mm sxuamzgy mn vqhqrk umf tybk us xxlfiez zmruxj mnu asddvk se wved, zok ymz aerearv\"\n",
    "task_six_message = task_six_message.lower()\n",
    "task_six_keyword = \"smart\""
   ]
  },
  {
   "cell_type": "code",
   "execution_count": 23,
   "metadata": {},
   "outputs": [
    {
     "name": "stdout",
     "output_type": "stream",
     "text": [
      "you were able to decode this? nice work! you are becoming quite the expert at crytography!\n",
      "i am becoming an expert but this is getting harder and harder as well, not fun anymore\n"
     ]
    }
   ],
   "source": [
    "def decode_vigenere_message(message, keyword):\n",
    "  # Initialize Variables\n",
    "    index = 0\n",
    "    keyword_phrase = []\n",
    "    message_index = []\n",
    "    phrase_index = []\n",
    "\n",
    "    # Generate keyword_phrase\n",
    "    for letter in message:\n",
    "        if letter in alphabet:\n",
    "            keyword_index = index % len(keyword)\n",
    "            keyword_phrase.append(keyword[keyword_index])\n",
    "            index += 1\n",
    "        elif letter in special_characters:\n",
    "            keyword_phrase.append(letter)\n",
    "\n",
    "    # Get indexes of fourth_message and keyword_phrase  \n",
    "    for i, j in zip(message, keyword_phrase):\n",
    "        if i in alphabet and j in alphabet:\n",
    "            msg_idx = alphabet.index(i)\n",
    "            phr_idx = alphabet.index(j)\n",
    "            message_index.append(msg_idx)\n",
    "            phrase_index.append(phr_idx)\n",
    "        elif i in special_characters:\n",
    "            message_index.append(i)\n",
    "            phrase_index.append(i)\n",
    "\n",
    "    # Decode the message\n",
    "    zip_object = zip(message_index, phrase_index)\n",
    "    decoded = []\n",
    "    for elem1, elem2 in zip_object:\n",
    "        if type(elem1) is int:\n",
    "            lst = (elem1 - elem2) % 26\n",
    "            decoded.append(alphabet[lst])\n",
    "        elif elem1 in special_characters:\n",
    "            decoded.append(elem1)\n",
    "    return \"\".join(decoded)\n",
    "print(decode_vigenere_message(fourth_message, keyword))\n",
    "print(decode_vigenere_message(task_six_message, task_six_keyword))"
   ]
  },
  {
   "cell_type": "markdown",
   "metadata": {
    "collapsed": true,
    "jupyter": {
     "outputs_hidden": true
    }
   },
   "source": [
    "#### Step 6: Send a message with the  Vigenère Cipher\n",
    "Great work decoding the message. For your final task, write a function that can encode a message using a given keyword and write out a message to send to Vishal!\n",
    "\n",
    "*As a bonus, try calling your decoder function on the result of your encryption function. You should get the original message back!*"
   ]
  },
  {
   "cell_type": "code",
   "execution_count": 25,
   "metadata": {},
   "outputs": [],
   "source": [
    "my_second_message = \"I am becoming an expert but this is getting harder and harder as well, not fun anymore\"\n",
    "my_second_message = my_second_message.lower()\n",
    "keyword = \"smart\""
   ]
  },
  {
   "cell_type": "code",
   "execution_count": 26,
   "metadata": {},
   "outputs": [
    {
     "name": "stdout",
     "output_type": "stream",
     "text": [
      "a mm sxuamzgy mn vqhqrk umf tybk us xxlfiez zmruxj mnu asddvk se wved, zok ymz aerearv\n"
     ]
    }
   ],
   "source": [
    "def encode_vigenere_message(message, keyword):\n",
    "  # Initialize Variables\n",
    "    index = 0\n",
    "    keyword_phrase = []\n",
    "    message_index = []\n",
    "    phrase_index = []\n",
    "\n",
    "    # Generate keyword_phrase\n",
    "    for letter in message:\n",
    "        if letter in alphabet:\n",
    "            keyword_index = index % len(keyword)\n",
    "            keyword_phrase.append(keyword[keyword_index])\n",
    "            index += 1\n",
    "        elif letter in special_characters:\n",
    "            keyword_phrase.append(letter)\n",
    "\n",
    "    # Get indexes of fourth_message and keyword_phrase  \n",
    "    for i, j in zip(message, keyword_phrase):\n",
    "        if i in alphabet and j in alphabet:\n",
    "            msg_idx = alphabet.index(i)\n",
    "            phr_idx = alphabet.index(j)\n",
    "            message_index.append(msg_idx)\n",
    "            phrase_index.append(phr_idx)\n",
    "        elif i in special_characters:\n",
    "            message_index.append(i)\n",
    "            phrase_index.append(i)\n",
    "\n",
    "    # Encode the message\n",
    "    zip_object = zip(message_index, phrase_index)\n",
    "    decoded = []\n",
    "    for elem1, elem2 in zip_object:\n",
    "        if type(elem1) is int:\n",
    "            lst = (elem1 + elem2) % 26\n",
    "            decoded.append(alphabet[lst])\n",
    "        elif elem1 in special_characters:\n",
    "            decoded.append(elem1)\n",
    "    return \"\".join(decoded)\n",
    "print(encode_vigenere_message(my_second_message, keyword))"
   ]
  },
  {
   "cell_type": "markdown",
   "metadata": {},
   "source": [
    "#### Conclusion\n",
    "Over the course of this project you've learned about two different cipher methods and have used your Python skills to code and decode messages. There are all types of other facinating ciphers out there to explore, and Python is the perfect language to implement them with, so go exploring! "
   ]
  }
 ],
 "metadata": {
  "kernelspec": {
   "display_name": "Python 3 (ipykernel)",
   "language": "python",
   "name": "python3"
  },
  "language_info": {
   "codemirror_mode": {
    "name": "ipython",
    "version": 3
   },
   "file_extension": ".py",
   "mimetype": "text/x-python",
   "name": "python",
   "nbconvert_exporter": "python",
   "pygments_lexer": "ipython3",
   "version": "3.12.4"
  }
 },
 "nbformat": 4,
 "nbformat_minor": 4
}
